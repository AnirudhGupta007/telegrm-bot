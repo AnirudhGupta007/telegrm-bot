{
 "cells": [
  {
   "cell_type": "code",
   "execution_count": 9,
   "metadata": {},
   "outputs": [],
   "source": [
    "a , b = 10 , 4"
   ]
  },
  {
   "cell_type": "code",
   "execution_count": 14,
   "metadata": {},
   "outputs": [],
   "source": [
    "import pandas as pd\n",
    "list1 = ['sha' , 'abc' , 'cbd']\n",
    "list2 = [1,2,3]\n",
    "list3 = ['abc' , \"shanan\" , \"ksg\"]"
   ]
  },
  {
   "cell_type": "code",
   "execution_count": 15,
   "metadata": {},
   "outputs": [],
   "source": [
    "df = pd.DataFrame({\"title\" : list1 , \"link\": list2 , \"content\" : list3})"
   ]
  },
  {
   "cell_type": "code",
   "execution_count": 31,
   "metadata": {},
   "outputs": [
    {
     "data": {
      "text/plain": [
       "'cbd'"
      ]
     },
     "execution_count": 31,
     "metadata": {},
     "output_type": "execute_result"
    }
   ],
   "source": [
    "df.iloc[2 , 0]"
   ]
  },
  {
   "cell_type": "code",
   "execution_count": null,
   "metadata": {},
   "outputs": [],
   "source": [
    "title | link | content"
   ]
  },
  {
   "cell_type": "code",
   "execution_count": 32,
   "metadata": {},
   "outputs": [
    {
     "data": {
      "text/html": [
       "<div>\n",
       "<style scoped>\n",
       "    .dataframe tbody tr th:only-of-type {\n",
       "        vertical-align: middle;\n",
       "    }\n",
       "\n",
       "    .dataframe tbody tr th {\n",
       "        vertical-align: top;\n",
       "    }\n",
       "\n",
       "    .dataframe thead th {\n",
       "        text-align: right;\n",
       "    }\n",
       "</style>\n",
       "<table border=\"1\" class=\"dataframe\">\n",
       "  <thead>\n",
       "    <tr style=\"text-align: right;\">\n",
       "      <th></th>\n",
       "      <th>Unnamed: 0</th>\n",
       "      <th>Artical Title</th>\n",
       "      <th>Artical Link</th>\n",
       "      <th>Artical Content</th>\n",
       "    </tr>\n",
       "  </thead>\n",
       "  <tbody>\n",
       "    <tr>\n",
       "      <th>0</th>\n",
       "      <td>0</td>\n",
       "      <td>About the Announcements category</td>\n",
       "      <td>https://forum.arbitrum.foundation/t/about-the-...</td>\n",
       "      <td>Announcements for important items, events and ...</td>\n",
       "    </tr>\n",
       "    <tr>\n",
       "      <th>1</th>\n",
       "      <td>1</td>\n",
       "      <td>Potential Misuse of Funds - Furucombo</td>\n",
       "      <td>https://forum.arbitrum.foundation/t/potential-...</td>\n",
       "      <td>What is the issue?\\nThe Foundation has reviewe...</td>\n",
       "    </tr>\n",
       "    <tr>\n",
       "      <th>2</th>\n",
       "      <td>2</td>\n",
       "      <td>The Arbitrum Foundation Bi-annual Progress Upd...</td>\n",
       "      <td>https://forum.arbitrum.foundation/t/the-arbitr...</td>\n",
       "      <td>Introduction\\nAs part of The Arbitrum Foundati...</td>\n",
       "    </tr>\n",
       "    <tr>\n",
       "      <th>3</th>\n",
       "      <td>3</td>\n",
       "      <td>List of projects banned from the DAO</td>\n",
       "      <td>https://forum.arbitrum.foundation/t/list-of-pr...</td>\n",
       "      <td>The following projects are banned from the Arb...</td>\n",
       "    </tr>\n",
       "    <tr>\n",
       "      <th>4</th>\n",
       "      <td>4</td>\n",
       "      <td>Improving Predictability in Arbitrum DAO’s Ope...</td>\n",
       "      <td>https://forum.arbitrum.foundation/t/improving-...</td>\n",
       "      <td>Overview:\\nWith the DAO expressing support in ...</td>\n",
       "    </tr>\n",
       "  </tbody>\n",
       "</table>\n",
       "</div>"
      ],
      "text/plain": [
       "   Unnamed: 0                                      Artical Title  \\\n",
       "0           0                   About the Announcements category   \n",
       "1           1              Potential Misuse of Funds - Furucombo   \n",
       "2           2  The Arbitrum Foundation Bi-annual Progress Upd...   \n",
       "3           3               List of projects banned from the DAO   \n",
       "4           4  Improving Predictability in Arbitrum DAO’s Ope...   \n",
       "\n",
       "                                        Artical Link  \\\n",
       "0  https://forum.arbitrum.foundation/t/about-the-...   \n",
       "1  https://forum.arbitrum.foundation/t/potential-...   \n",
       "2  https://forum.arbitrum.foundation/t/the-arbitr...   \n",
       "3  https://forum.arbitrum.foundation/t/list-of-pr...   \n",
       "4  https://forum.arbitrum.foundation/t/improving-...   \n",
       "\n",
       "                                     Artical Content  \n",
       "0  Announcements for important items, events and ...  \n",
       "1  What is the issue?\\nThe Foundation has reviewe...  \n",
       "2  Introduction\\nAs part of The Arbitrum Foundati...  \n",
       "3  The following projects are banned from the Arb...  \n",
       "4  Overview:\\nWith the DAO expressing support in ...  "
      ]
     },
     "execution_count": 32,
     "metadata": {},
     "output_type": "execute_result"
    }
   ],
   "source": [
    "df = pd.read_csv(\"arbitrum_data.csv\")\n",
    "df.head()"
   ]
  },
  {
   "cell_type": "code",
   "execution_count": 39,
   "metadata": {},
   "outputs": [
    {
     "name": "stdout",
     "output_type": "stream",
     "text": [
      "IntroductionAs part of The Arbitrum Foundation’s ongoing commitment to transparency, the Foundation is excited to publish its Progress Update for the first half of 2024 (H1’2024). This report is a bi-annual update to the Transparency Report published annually (in the first quarter) and details the Foundation’s activities and their impact on the Arbitrum ecosystem.docs.arbitrum.foundationArbitrumFoundationBiannualReport2024H1-c8e9ab997fe68ad09c0105181f9826d8.pdf61.84 MBAs per the 2\n"
     ]
    }
   ],
   "source": [
    "print(df.iloc[2, 3].replace(\"\\n\" , \"\"))"
   ]
  },
  {
   "cell_type": "code",
   "execution_count": 40,
   "metadata": {},
   "outputs": [],
   "source": [
    "data = df.drop(columns= ['Unnamed: 0'])"
   ]
  },
  {
   "cell_type": "code",
   "execution_count": 42,
   "metadata": {},
   "outputs": [],
   "source": [
    "def remove_line_gap(text):\n",
    "    return text.replace(\"\\n\" , \"\")\n",
    "\n"
   ]
  },
  {
   "cell_type": "code",
   "execution_count": 43,
   "metadata": {},
   "outputs": [
    {
     "data": {
      "text/plain": [
       "0      Announcements for important items, events and ...\n",
       "1      What is the issue?The Foundation has reviewed ...\n",
       "2      IntroductionAs part of The Arbitrum Foundation...\n",
       "3      The following projects are banned from the Arb...\n",
       "4      Overview:With the DAO expressing support in th...\n",
       "                             ...                        \n",
       "252    Jumpstart fund for DAO improvementNon-Constitu...\n",
       "253    Track Number: 1Track Name: RWAChallenge Statem...\n",
       "254    Track: VenturesChallenge Statement: The ARB to...\n",
       "255    Title: ArbitrumAgent: Empowering Decentralized...\n",
       "256    Track Name: Community / IRL Activation, Market...\n",
       "Name: Artical Content, Length: 257, dtype: object"
      ]
     },
     "execution_count": 43,
     "metadata": {},
     "output_type": "execute_result"
    }
   ],
   "source": [
    "data['Artical Content'].apply(remove_line_gap)"
   ]
  },
  {
   "cell_type": "code",
   "execution_count": 46,
   "metadata": {},
   "outputs": [],
   "source": [
    "data.to_csv(\"Data.csv\")"
   ]
  },
  {
   "cell_type": "code",
   "execution_count": null,
   "metadata": {},
   "outputs": [],
   "source": []
  }
 ],
 "metadata": {
  "kernelspec": {
   "display_name": "Python 3",
   "language": "python",
   "name": "python3"
  },
  "language_info": {
   "codemirror_mode": {
    "name": "ipython",
    "version": 3
   },
   "file_extension": ".py",
   "mimetype": "text/x-python",
   "name": "python",
   "nbconvert_exporter": "python",
   "pygments_lexer": "ipython3",
   "version": "3.12.2"
  }
 },
 "nbformat": 4,
 "nbformat_minor": 2
}
